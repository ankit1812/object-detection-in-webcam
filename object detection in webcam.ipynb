{
 "cells": [
  {
   "cell_type": "code",
   "execution_count": null,
   "metadata": {},
   "outputs": [],
   "source": [
    "import cv2\n",
    "from darkflow.net.build import TFNet\n",
    "import time\n",
    "import matplotlib.pyplot as plt\n",
    "import numpy as np"
   ]
  },
  {
   "cell_type": "code",
   "execution_count": null,
   "metadata": {},
   "outputs": [],
   "source": [
    "options={\n",
    "    \n",
    "    'model':'cfg/yolo.cfg',\n",
    "    'load':'bin/yolo.weights',\n",
    "    'threshold':0.2\n",
    "    \n",
    "}"
   ]
  },
  {
   "cell_type": "code",
   "execution_count": null,
   "metadata": {},
   "outputs": [],
   "source": [
    "tfnet=TFNet(options)"
   ]
  },
  {
   "cell_type": "code",
   "execution_count": null,
   "metadata": {},
   "outputs": [],
   "source": [
    "colors=[tuple(255*np.random.rand(3)) for i in range(10)]"
   ]
  },
  {
   "cell_type": "code",
   "execution_count": null,
   "metadata": {},
   "outputs": [],
   "source": [
    "capture=cv2.VideoCapture(0)"
   ]
  },
  {
   "cell_type": "code",
   "execution_count": null,
   "metadata": {},
   "outputs": [],
   "source": [
    "capture=cv2.VideoCapture(0)\n",
    "capture.set(cv2.CAP_PROP_FRAME_WIDTH,1920)\n",
    "capture.set(cv2.CAP_PROP_FRAME_HEIGHT,1080)\n",
    "capture.set(cv2.CAP_PROP_FPS,20)\n",
    "while True:\n",
    "    stime=time.time()\n",
    "    ret,frame=capture.read()\n",
    "    results=tfnet.return_predict(frame)\n",
    "    if ret:\n",
    "        for color,result in zip(colors,results):\n",
    "            t2=(result['bottomright']['x'],result['bottomright']['y'])\n",
    "            t1=(result['topleft']['x'],result['topleft']['y'])\n",
    "            label=result['label']\n",
    "            confidence=result['confidence']\n",
    "            \n",
    "            text='{},{:.0F}%'.format(label,confidence*100)\n",
    "            frame=cv2.rectangle(frame,t1,t2,color,6)\n",
    "            frame=cv2.putText(frame,label,t1,cv2.FONT_HERSHEY_COMPLEX,1,(0,0,0),2)\n",
    "        cv2.imshow('frame',frame)\n",
    "    if cv2.waitKey(5) & 0xFF==27:\n",
    "            break\n",
    "    \n",
    "capture.release()\n",
    "cv2.destroyAllWindows()\n",
    "        \n",
    "            "
   ]
  },
  {
   "cell_type": "code",
   "execution_count": null,
   "metadata": {},
   "outputs": [],
   "source": [
    "import cv2\n",
    "import numpy as np\n",
    "from pynput.mouse import Controller,Button\n",
    "import wx\n",
    "mouse=Controller()\n",
    "app=wx.App(False)\n",
    "(sx,sy)=wx.GetDisplaySize()\n",
    "(camx,camy)=(320,240)\n",
    "\n",
    "lowerBound=np.array([20,100,100])\n",
    "upperBound=np.array([30,255,255])\n",
    "\n",
    "cam= cv2.VideoCapture(0)\n",
    "cam.set(3,camx)\n",
    "cam.set(4,camy)\n",
    "kernelOpen=np.ones((5,5))\n",
    "kernelClose=np.ones((20,20))\n",
    "\n",
    "#font=cv2.cv.InitFont(cv2.cv.CV_FONT_HERSHEY_SIMPLEX,2,0.5,0,3,1)\n",
    "\n",
    "while True:\n",
    "    ret, img=cam.read()\n",
    "    #img=cv2.resize(img,(340,220))\n",
    "\n",
    "    #convert BGR to HSV\n",
    "    imgHSV= cv2.cvtColor(img,cv2.COLOR_BGR2HSV)\n",
    "    # create the Mask\n",
    "    mask=cv2.inRange(imgHSV,lowerBound,upperBound)\n",
    "    #morphology\n",
    "    maskOpen=cv2.morphologyEx(mask,cv2.MORPH_OPEN,kernelOpen)\n",
    "    maskClose=cv2.morphologyEx(maskOpen,cv2.MORPH_CLOSE,kernelClose)\n",
    "\n",
    "    maskFinal=maskClose\n",
    "    _,conts,h=cv2.findContours(maskFinal.copy(),cv2.RETR_EXTERNAL,cv2.CHAIN_APPROX_NONE)\n",
    "    \n",
    "    if(len(conts)==2):\n",
    "        x1,y1,w1,h1=cv2.boundingRect(conts[0])\n",
    "        x2,y2,w2,h2=cv2.boundingRect(conts[1])\n",
    "        cv2.rectangle(img,(x1,y1),(x1+h1,y1+w1),(255,0,0),2)\n",
    "        cv2.rectangle(img,(x2,y2),(x2+h2,y2+h2),(255,0,0),2)\n",
    "        cx1=(x1+w1)//2\n",
    "        cy1=(y1+h1)//2\n",
    "        # centre coordinate of the 2nd object\n",
    "        cx2=(x2+w2)//2\n",
    "        cy2=(y2+h2)//2\n",
    "        # centre coordinate of the line connection both points\n",
    "        cx=(cx1+cx2)//2\n",
    "        cy=(cy1+cy2)//2\n",
    "        # Drawing the line\n",
    "        cv2.line(img, (cx1,cy1),(cx2,cy2),(255,0,0),2)\n",
    "    \n",
    "    cv2.imshow(\"cam\",img)\n",
    "    if cv2.waitKey(10) & 0xFF==27:\n",
    "        break"
   ]
  },
  {
   "cell_type": "code",
   "execution_count": null,
   "metadata": {},
   "outputs": [],
   "source": []
  },
  {
   "cell_type": "code",
   "execution_count": null,
   "metadata": {},
   "outputs": [],
   "source": []
  }
 ],
 "metadata": {
  "kernelspec": {
   "display_name": "Python 3",
   "language": "python",
   "name": "python3"
  },
  "language_info": {
   "codemirror_mode": {
    "name": "ipython",
    "version": 3
   },
   "file_extension": ".py",
   "mimetype": "text/x-python",
   "name": "python",
   "nbconvert_exporter": "python",
   "pygments_lexer": "ipython3",
   "version": "3.7.3"
  }
 },
 "nbformat": 4,
 "nbformat_minor": 2
}
